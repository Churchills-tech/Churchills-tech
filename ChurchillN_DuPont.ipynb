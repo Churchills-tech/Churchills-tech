{
  "nbformat": 4,
  "nbformat_minor": 0,
  "metadata": {
    "colab": {
      "name": "ChurchillN_DuPont.ipynb",
      "provenance": [],
      "collapsed_sections": [],
      "authorship_tag": "ABX9TyMxUT1adSkvEEQ20F3g1bzW",
      "include_colab_link": true
    },
    "kernelspec": {
      "name": "python3",
      "display_name": "Python 3"
    },
    "language_info": {
      "name": "python"
    }
  },
  "cells": [
    {
      "cell_type": "markdown",
      "metadata": {
        "id": "view-in-github",
        "colab_type": "text"
      },
      "source": [
        "<a href=\"https://colab.research.google.com/github/Churchills-tech/Google-IoT-Core-RaspberryPI/blob/Codelab/ChurchillN_DuPont.ipynb\" target=\"_parent\"><img src=\"https://colab.research.google.com/assets/colab-badge.svg\" alt=\"Open In Colab\"/></a>"
      ]
    },
    {
      "cell_type": "code",
      "execution_count": 7,
      "metadata": {
        "colab": {
          "base_uri": "https://localhost:8080/"
        },
        "id": "X9EiQI-IencL",
        "outputId": "b187493d-516e-42a1-9ce4-ebf9fb759987"
      },
      "outputs": [
        {
          "output_type": "stream",
          "name": "stdout",
          "text": [
            "{'date': '2020-09-26', 'symbol': 'AAPL', 'reportedCurrency': 'USD', 'cik': '0000320193', 'fillingDate': '2020-10-30', 'acceptedDate': '2020-10-29 18:06:25', 'calendarYear': '2020', 'period': 'FY', 'cashAndCashEquivalents': 38016000000, 'shortTermInvestments': 52927000000, 'cashAndShortTermInvestments': 90943000000, 'netReceivables': 37445000000, 'inventory': 4061000000, 'otherCurrentAssets': 11264000000, 'totalCurrentAssets': 143713000000, 'propertyPlantEquipmentNet': 36766000000, 'goodwill': 0.0, 'intangibleAssets': 0.0, 'goodwillAndIntangibleAssets': 0.0, 'longTermInvestments': 100887000000, 'taxAssets': 0.0, 'otherNonCurrentAssets': 42522000000, 'totalNonCurrentAssets': 180175000000, 'otherAssets': 0.0, 'totalAssets': 323888000000, 'accountPayables': 42296000000, 'shortTermDebt': 13769000000, 'taxPayables': 0.0, 'deferredRevenue': 6643000000, 'otherCurrentLiabilities': 42684000000, 'totalCurrentLiabilities': 105392000000, 'longTermDebt': 98667000000, 'deferredRevenueNonCurrent': 0.0, 'deferredTaxLiabilitiesNonCurrent': 0.0, 'otherNonCurrentLiabilities': 54490000000, 'totalNonCurrentLiabilities': 153157000000, 'otherLiabilities': 0.0, 'capitalLeaseObligations': 0.0, 'totalLiabilities': 258549000000, 'preferredStock': 0.0, 'commonStock': 50779000000, 'retainedEarnings': 14966000000, 'accumulatedOtherComprehensiveIncomeLoss': -406000000, 'othertotalStockholdersEquity': 0.0, 'totalStockholdersEquity': 65339000000, 'totalLiabilitiesAndStockholdersEquity': 323888000000, 'minorityInterest': 0, 'totalEquity': 65339000000, 'totalLiabilitiesAndTotalEquity': 323888000000, 'totalInvestments': 153814000000, 'totalDebt': 112436000000, 'netDebt': 74420000000, 'link': 'https://www.sec.gov/Archives/edgar/data/320193/000032019320000096/0000320193-20-000096-index.htm', 'finalLink': 'https://www.sec.gov/Archives/edgar/data/320193/000032019320000096/aapl-20200926.htm'}\n",
            "[1.5007132667617686]\n",
            "[1.5007132667617686, 0.878663585301275]\n"
          ]
        }
      ],
      "source": [
        "import requests \n",
        "import pandas as pd\n",
        "myAPIKey = 'a18f132eb4ea4bbb9eeb8137bf7ba706'\n",
        "\n",
        "stock = 'AAPL'\n",
        "balanceStatements = requests.get(f\"https://financialmodelingprep.com/api/v3/balance-sheet-statement/{stock}?apikey={myAPIKey}\").json()\n",
        "\n",
        "\n",
        "incomeStatements = requests.get(f'https://financialmodelingprep.com/api/v3/income-statement/{stock}?apikey={myAPIKey}').json()\n",
        "\n",
        "\n",
        "print (balanceStatements[1])\n",
        "\n",
        "#the numbers from the two most recent years\n",
        "twoYearBalanceStatement= balanceStatements[:2]\n",
        "twoYearIncomeStatement= incomeStatements[:2]\n",
        "\n",
        "\n",
        "#calculate profitability, assetTurnOver, and capitalStructure\n",
        "profitability=[]\n",
        "assetTurnOver=[]\n",
        "capitalStructure=[]\n",
        "returnOnEquity=[]\n",
        "#getting details\n",
        "for i in range (0,2):\n",
        " profitabilityValue=twoYearIncomeStatement[i]['netIncome']/twoYearIncomeStatement[i]['revenue']\n",
        " profitability.append(profitabilityValue)\n",
        " assetTurnOverValue=twoYearIncomeStatement[i]['revenue']/twoYearBalanceStatement[i]['totalAssets']\n",
        " assetTurnOver.append(assetTurnOverValue)\n",
        " capitalStructureValue=twoYearBalanceStatement[i]['totalAssets']/twoYearBalanceStatement[i]['totalStockholdersEquity']\n",
        " capitalStructure.append(capitalStructure)\n",
        " returnOnEquityValue=profitabilityValue*assetTurnOverValue*capitalStructureValue\n",
        " returnOnEquity.append(returnOnEquityValue)\n",
        "\n",
        "\n",
        " print(returnOnEquity)"
      ]
    }
  ]
}